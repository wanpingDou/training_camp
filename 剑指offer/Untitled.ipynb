{
 "cells": [
  {
   "cell_type": "markdown",
   "metadata": {},
   "source": [
    "## 题目：\n",
    "    - 输入一个链表，按链表从尾到头的顺序返回一个ArrayList。\n",
    "\n",
    "## 思路：\n",
    "    - 链表并不等同于列表，元祖等，它们的区别在于链表中的每个元素都是由两部分组成，一部分是值（元素值），一部分是下一个元素的地址，输入一个链表，通常是已经指向第一个节点（每次使用完一个节点，则将指针指向第二个节点），保存在列表中，逆序操作是list[::-1]"
   ]
  },
  {
   "cell_type": "code",
   "execution_count": null,
   "metadata": {},
   "outputs": [],
   "source": [
    "def printListFromTailToHead(self, listNode):\n",
    "        # write code here\n",
    "        # listNode为链表头\n",
    "        res=[]\n",
    "        while listNode:\n",
    "            res.append(listNode.val)\n",
    "            listNode=listNode.next\n",
    "        return res[::-1]  #逆序打印"
   ]
  },
  {
   "cell_type": "code",
   "execution_count": 2,
   "metadata": {},
   "outputs": [
    {
     "ename": "AttributeError",
     "evalue": "'int' object has no attribute 'val'",
     "output_type": "error",
     "traceback": [
      "\u001b[1;31m---------------------------------------------------------------------------\u001b[0m",
      "\u001b[1;31mAttributeError\u001b[0m                            Traceback (most recent call last)",
      "\u001b[1;32m<ipython-input-2-4e1417cb388f>\u001b[0m in \u001b[0;36m<module>\u001b[1;34m()\u001b[0m\n\u001b[0;32m      7\u001b[0m             \u001b[0mlistNode\u001b[0m\u001b[1;33m=\u001b[0m\u001b[0mlistNode\u001b[0m\u001b[1;33m.\u001b[0m\u001b[0mnext\u001b[0m\u001b[1;33m\u001b[0m\u001b[0m\n\u001b[0;32m      8\u001b[0m         \u001b[1;32mreturn\u001b[0m \u001b[0mres\u001b[0m\u001b[1;33m[\u001b[0m\u001b[1;33m:\u001b[0m\u001b[1;33m:\u001b[0m\u001b[1;33m-\u001b[0m\u001b[1;36m1\u001b[0m\u001b[1;33m]\u001b[0m  \u001b[1;31m#逆序打印\u001b[0m\u001b[1;33m\u001b[0m\u001b[0m\n\u001b[1;32m----> 9\u001b[1;33m \u001b[0mprintListFromTailToHead\u001b[0m\u001b[1;33m(\u001b[0m\u001b[1;36m1\u001b[0m\u001b[1;33m)\u001b[0m\u001b[1;33m\u001b[0m\u001b[0m\n\u001b[0m",
      "\u001b[1;32m<ipython-input-2-4e1417cb388f>\u001b[0m in \u001b[0;36mprintListFromTailToHead\u001b[1;34m(listNode)\u001b[0m\n\u001b[0;32m      4\u001b[0m         \u001b[0mres\u001b[0m\u001b[1;33m=\u001b[0m\u001b[1;33m[\u001b[0m\u001b[1;33m]\u001b[0m\u001b[1;33m\u001b[0m\u001b[0m\n\u001b[0;32m      5\u001b[0m         \u001b[1;32mwhile\u001b[0m \u001b[0mlistNode\u001b[0m\u001b[1;33m:\u001b[0m\u001b[1;33m\u001b[0m\u001b[0m\n\u001b[1;32m----> 6\u001b[1;33m             \u001b[0mres\u001b[0m\u001b[1;33m.\u001b[0m\u001b[0mappend\u001b[0m\u001b[1;33m(\u001b[0m\u001b[0mlistNode\u001b[0m\u001b[1;33m.\u001b[0m\u001b[0mval\u001b[0m\u001b[1;33m)\u001b[0m\u001b[1;33m\u001b[0m\u001b[0m\n\u001b[0m\u001b[0;32m      7\u001b[0m             \u001b[0mlistNode\u001b[0m\u001b[1;33m=\u001b[0m\u001b[0mlistNode\u001b[0m\u001b[1;33m.\u001b[0m\u001b[0mnext\u001b[0m\u001b[1;33m\u001b[0m\u001b[0m\n\u001b[0;32m      8\u001b[0m         \u001b[1;32mreturn\u001b[0m \u001b[0mres\u001b[0m\u001b[1;33m[\u001b[0m\u001b[1;33m:\u001b[0m\u001b[1;33m:\u001b[0m\u001b[1;33m-\u001b[0m\u001b[1;36m1\u001b[0m\u001b[1;33m]\u001b[0m  \u001b[1;31m#逆序打印\u001b[0m\u001b[1;33m\u001b[0m\u001b[0m\n",
      "\u001b[1;31mAttributeError\u001b[0m: 'int' object has no attribute 'val'"
     ]
    }
   ],
   "source": [
    "def printListFromTailToHead(listNode):\n",
    "        # write code here\n",
    "        # listNode为链表头\n",
    "        res=[]\n",
    "        while listNode:\n",
    "            res.append(listNode.val)\n",
    "            listNode=listNode.next\n",
    "        return res[::-1]  #逆序打印\n",
    "printListFromTailToHead(1)"
   ]
  },
  {
   "cell_type": "code",
   "execution_count": 60,
   "metadata": {},
   "outputs": [
    {
     "name": "stdout",
     "output_type": "stream",
     "text": [
      "1\n"
     ]
    }
   ],
   "source": [
    "class Node:\n",
    "    def __init__(self,x):\n",
    "        self.val = x\n",
    "        self.next = None\n",
    "    def __str__(self):\n",
    "        #测试基本功能，输出字符串\n",
    "        return str(self.val)\n",
    "print(Node(1))"
   ]
  },
  {
   "cell_type": "code",
   "execution_count": 75,
   "metadata": {},
   "outputs": [
    {
     "name": "stdout",
     "output_type": "stream",
     "text": [
      "1\n",
      "3\n",
      "None\n"
     ]
    }
   ],
   "source": [
    "node1 = Node(1)\n",
    "node2 = Node(3)\n",
    "node3 = Node(3)\n",
    "node4 = Node(3)\n",
    "\n",
    "node1.next = node2\n",
    "node2.next = node3\n",
    "node3.next = node4\n",
    "\n",
    "def del_dup(node):\n",
    "    while node and node.next:\n",
    "        if node.val==node.next.val:\n",
    "            node = node.next.next\n",
    "            res = node\n",
    "        else:\n",
    "            res = node\n",
    "            node = node.next \n",
    "        print(res)\n",
    "#     return node\n",
    "\n",
    "print(del_dup(node1))"
   ]
  },
  {
   "cell_type": "code",
   "execution_count": 58,
   "metadata": {},
   "outputs": [
    {
     "name": "stdout",
     "output_type": "stream",
     "text": [
      "<__main__.ListNode object at 0x000001EC0CFA2828>\n",
      "<__main__.ListNode object at 0x000001EC0CFA2828>\n"
     ]
    }
   ],
   "source": [
    "# -*- coding:utf-8 -*-\n",
    "class ListNode:\n",
    "    def __init__(self, x):\n",
    "        self.val = x\n",
    "        self.next = None\n",
    "\n",
    "def cc(node):\n",
    "    print(node.val)\n",
    "\n",
    "nd1 = ListNode(1)\n",
    "nd2 = ListNode(1)\n",
    "nd3 = ListNode(2)\n",
    "nd4 = ListNode(3)\n",
    "\n",
    "nd1.next = nd2\n",
    "nd2.next = nd3\n",
    "nd3.next = nd4\n",
    "# cc(nd1)\n",
    "class Solution:\n",
    "    def deleteDuplication(pHead):\n",
    "        # 第一步先检测一下是不是空的或者是不是只有一个\n",
    "        if pHead is None or pHead.next is None:\n",
    "            return pHead\n",
    "        # 第二步因为防止第一个就是重复的节点，所以创作一个新的头节点。\n",
    "        first = ListNode(-1)\n",
    "        # 因为需要两个指针，一个指着重复结点上一个结点，一个指着重复结点后一个值。\n",
    "        first.next = pHead\n",
    "        last = first\n",
    "        while pHead and pHead.next:\n",
    "            if pHead.val == pHead.next.val:\n",
    "                val = pHead.val\n",
    "                while pHead and val == pHead.val:\n",
    "                    pHead = pHead.next\n",
    "                last.next = pHead\n",
    "            else:\n",
    "                last = pHead\n",
    "                pHead = pHead.next\n",
    "            print(first.next)\n",
    "\n",
    "Solution.deleteDuplication(nd1)"
   ]
  },
  {
   "cell_type": "code",
   "execution_count": 37,
   "metadata": {},
   "outputs": [
    {
     "data": {
      "text/plain": [
       "<__main__.Node at 0x1ec0ce7fd30>"
      ]
     },
     "execution_count": 37,
     "metadata": {},
     "output_type": "execute_result"
    }
   ],
   "source": [
    "node1.next"
   ]
  },
  {
   "cell_type": "code",
   "execution_count": 25,
   "metadata": {},
   "outputs": [
    {
     "name": "stdout",
     "output_type": "stream",
     "text": [
      "2\n",
      "3\n"
     ]
    }
   ],
   "source": [
    "node1 = Node(1)\n",
    "node2 = Node(1)\n",
    "node3 = Node(2)\n",
    "node4 = Node(3)\n",
    "\n",
    "node1.next = node2\n",
    "node2.next = node3\n",
    "node3.next = node4\n",
    "\n",
    "node1 = node1.next.next\n",
    "\n",
    "p = node1\n",
    "while p:\n",
    "    print(p)\n",
    "    p = p.next\n"
   ]
  }
 ],
 "metadata": {
  "kernelspec": {
   "display_name": "Python 3",
   "language": "python",
   "name": "python3"
  },
  "language_info": {
   "codemirror_mode": {
    "name": "ipython",
    "version": 3
   },
   "file_extension": ".py",
   "mimetype": "text/x-python",
   "name": "python",
   "nbconvert_exporter": "python",
   "pygments_lexer": "ipython3",
   "version": "3.6.5"
  },
  "latex_envs": {
   "LaTeX_envs_menu_present": true,
   "autoclose": false,
   "autocomplete": true,
   "bibliofile": "biblio.bib",
   "cite_by": "apalike",
   "current_citInitial": 1,
   "eqLabelWithNumbers": true,
   "eqNumInitial": 1,
   "hotkeys": {
    "equation": "Ctrl-E",
    "itemize": "Ctrl-I"
   },
   "labels_anchors": false,
   "latex_user_defs": false,
   "report_style_numbering": false,
   "user_envs_cfg": false
  },
  "toc": {
   "base_numbering": 1,
   "nav_menu": {},
   "number_sections": true,
   "sideBar": true,
   "skip_h1_title": false,
   "title_cell": "Table of Contents",
   "title_sidebar": "Contents",
   "toc_cell": false,
   "toc_position": {},
   "toc_section_display": true,
   "toc_window_display": false
  }
 },
 "nbformat": 4,
 "nbformat_minor": 2
}
