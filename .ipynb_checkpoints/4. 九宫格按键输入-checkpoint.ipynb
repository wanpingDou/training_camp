{
 "cells": [
  {
   "cell_type": "markdown",
   "metadata": {},
   "source": [
    "4.    九宫格按键输入\n",
    "\n",
    "标题：九宫格按键输入 | 时间限制：1秒 | 内存限制：32768K | 语言限制：不限\n",
    "\n",
    "九宫格按键输入，判断输出，有英文和数字两个模式，默认是数字模式，数字模式直接输出数字，英文模式连续按同一个按键会依次出现这个按键上的字母，如果输入\"/\"或者其他字符，则循环中断\n",
    "\n",
    "1（,.）2（abc）3（def）\n",
    "\n",
    "4（ghi）5（jkl）6（mno）\n",
    "\n",
    "7（pqrs）8（tuv）9（wxyz）\n",
    "\n",
    "\\# 0（空格）/\n",
    "\n",
    "要求输入一串按键，输出屏幕显示\n",
    "\n",
    " \n",
    "\n",
    "输入描述:\n",
    "\n",
    "输入范围为数字0~9和字符 '#'、’/’，输出屏幕显示，例如，\n",
    "\n",
    "在数字模式下，输入1234，显示 1234\n",
    "\n",
    "在英文模式下，输入1234，显示 ,adg\n",
    "\n",
    "输出描述:\n",
    "\n",
    "1、#用于切换模式，默认是数字模式，执行#后切换为英文模式；\n",
    "\n",
    "2、/表示延迟，例如在英文模式下，输入22/222，显示为bc；\n",
    "\n",
    "3、英文模式下，多次按同一键，例如输入22222，显示为b；\n",
    "\n",
    "示例1\n",
    "\n",
    "输入\n",
    "\n",
    "123#222235/56\n",
    "\n",
    "输出\n",
    "\n",
    "123adjjm\n",
    "\n",
    "输入\n",
    "123#222235/56/22/343/33333/3#7777#0009\n",
    "输出\n",
    "123adjjmbdgded7777   v"
   ]
  },
  {
   "cell_type": "code",
   "execution_count": 2,
   "metadata": {
    "scrolled": false
   },
   "outputs": [
    {
     "name": "stdout",
     "output_type": "stream",
     "text": [
      "123#222235/56/22/343/33333/3#7777#0009\n",
      "123adjjmbdgded7777   v\n"
     ]
    }
   ],
   "source": [
    "def keyword_out(s):\n",
    "    keyword_list = [' ', ',.', 'abc', 'def', \n",
    "                   'ghi', 'jkl', 'mno', \n",
    "                   'pqrs', 'tuv', 'vwxyz']\n",
    "    s='/#'.join(s.split('#'))\n",
    "    s = s+'_' \n",
    "    len_s = len(s)\n",
    "    res = []\n",
    "    letter_tmp = []\n",
    "    switch_num_letter = 0\n",
    "    for i,j in enumerate(s):\n",
    "        if j=='#':\n",
    "            switch_num_letter += 1\n",
    "            continue\n",
    "        if switch_num_letter%2==0:\n",
    "            res.append(j)\n",
    "        else:\n",
    "\n",
    "            if letter_tmp:\n",
    "                if letter_tmp[0] == j:\n",
    "                    letter_tmp[1] += 1                   \n",
    "                else:\n",
    "                    count = letter_tmp[1]\n",
    "#                     print(letter_tmp)\n",
    "                    keyword_list_index = int(letter_tmp[0])\n",
    "                    letters_len = len(keyword_list[keyword_list_index])\n",
    "                    mod = count % letters_len\n",
    "                    if mod==0:\n",
    "                        locate_letter_index = letters_len - 1\n",
    "                    else:\n",
    "                        locate_letter_index = mod - 1\n",
    "                    if keyword_list_index == 0:\n",
    "                        res.append(' '*count)\n",
    "                    else:\n",
    "                        res.append(keyword_list[keyword_list_index][locate_letter_index])\n",
    "                    if j == '/':\n",
    "                        letter_tmp = []\n",
    "                    else:\n",
    "                        letter_tmp = [j, 1]\n",
    "            else:\n",
    "                letter_tmp = [j, 1]\n",
    "    return ''.join(res).replace('/', '')\n",
    "\n",
    "s = input()\n",
    "print(keyword_out(s))\n"
   ]
  }
 ],
 "metadata": {
  "kernelspec": {
   "display_name": "Python 3",
   "language": "python",
   "name": "python3"
  },
  "language_info": {
   "codemirror_mode": {
    "name": "ipython",
    "version": 3
   },
   "file_extension": ".py",
   "mimetype": "text/x-python",
   "name": "python",
   "nbconvert_exporter": "python",
   "pygments_lexer": "ipython3",
   "version": "3.6.5"
  },
  "latex_envs": {
   "LaTeX_envs_menu_present": true,
   "autoclose": false,
   "autocomplete": true,
   "bibliofile": "biblio.bib",
   "cite_by": "apalike",
   "current_citInitial": 1,
   "eqLabelWithNumbers": true,
   "eqNumInitial": 1,
   "hotkeys": {
    "equation": "Ctrl-E",
    "itemize": "Ctrl-I"
   },
   "labels_anchors": false,
   "latex_user_defs": false,
   "report_style_numbering": false,
   "user_envs_cfg": false
  },
  "toc": {
   "base_numbering": 1,
   "nav_menu": {},
   "number_sections": true,
   "sideBar": true,
   "skip_h1_title": false,
   "title_cell": "Table of Contents",
   "title_sidebar": "Contents",
   "toc_cell": false,
   "toc_position": {},
   "toc_section_display": true,
   "toc_window_display": false
  }
 },
 "nbformat": 4,
 "nbformat_minor": 2
}
