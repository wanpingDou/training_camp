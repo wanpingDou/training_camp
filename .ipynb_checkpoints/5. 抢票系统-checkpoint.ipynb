{
 "cells": [
  {
   "cell_type": "markdown",
   "metadata": {},
   "source": [
    "5.    抢票系统\n",
    "\n",
    "标题：抢票系统 | 时间限制：1秒 | 内存限制：32768K | 语言限制：不限\n",
    "\n",
    "输入年月日时分秒，输出多少人能抢到票；\n",
    "\n",
    "规则：\n",
    "\n",
    "（1） 同一秒内，若时间不同，选最早的，若存在时间相同，选择多个；\n",
    "\n",
    "（2） 不同时间，选则时间最早的；\n",
    "\n",
    "收起\n",
    "\n",
    "输入描述:\n",
    "\n",
    "n行字符串\n",
    "\n",
    "输出描述:\n",
    "\n",
    "整数\n",
    "\n",
    "示例1\n",
    "\n",
    "输入\n",
    "\n",
    "1992-08-20 12:12:12.001\n",
    "\n",
    "1992-08-20 12:12:12.003\n",
    "\n",
    "1992-08-20 12:12:12.203\n",
    "\n",
    "1992-08-21 12:12:12.001\n",
    "\n",
    "1992-08-21 12:12:12.003\n",
    "\n",
    "输出\n",
    "\n",
    "2\n",
    "\n",
    "说明\n",
    "\n",
    "1992-08-20 12:12:12.001   8月20号12点12分12秒，这一秒内最早的\n",
    "\n",
    "1992-08-21 12:12:12.001   8月21号12点12分12秒，这一秒内最早的"
   ]
  },
  {
   "cell_type": "code",
   "execution_count": null,
   "metadata": {},
   "outputs": [
    {
     "name": "stdout",
     "output_type": "stream",
     "text": [
      "1992-08-20 12:12:12.001\n",
      "1992-08-20 12:12:12.003\n",
      "\n",
      "\n"
     ]
    }
   ],
   "source": [
    "def tickets(s):\n",
    "    return s\n",
    "\n",
    "s = [] \n",
    "n = 5\n",
    "for i in range(5):\n",
    "    s.append(input()) \n",
    "print(tickets(s))"
   ]
  }
 ],
 "metadata": {
  "kernelspec": {
   "display_name": "Python 3",
   "language": "python",
   "name": "python3"
  },
  "language_info": {
   "codemirror_mode": {
    "name": "ipython",
    "version": 3
   },
   "file_extension": ".py",
   "mimetype": "text/x-python",
   "name": "python",
   "nbconvert_exporter": "python",
   "pygments_lexer": "ipython3",
   "version": "3.6.5"
  },
  "latex_envs": {
   "LaTeX_envs_menu_present": true,
   "autoclose": false,
   "autocomplete": true,
   "bibliofile": "biblio.bib",
   "cite_by": "apalike",
   "current_citInitial": 1,
   "eqLabelWithNumbers": true,
   "eqNumInitial": 1,
   "hotkeys": {
    "equation": "Ctrl-E",
    "itemize": "Ctrl-I"
   },
   "labels_anchors": false,
   "latex_user_defs": false,
   "report_style_numbering": false,
   "user_envs_cfg": false
  },
  "toc": {
   "base_numbering": 1,
   "nav_menu": {},
   "number_sections": true,
   "sideBar": true,
   "skip_h1_title": false,
   "title_cell": "Table of Contents",
   "title_sidebar": "Contents",
   "toc_cell": false,
   "toc_position": {},
   "toc_section_display": true,
   "toc_window_display": false
  }
 },
 "nbformat": 4,
 "nbformat_minor": 2
}
