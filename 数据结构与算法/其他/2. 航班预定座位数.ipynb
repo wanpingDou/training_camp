{
 "cells": [
  {
   "cell_type": "code",
   "execution_count": 6,
   "metadata": {},
   "outputs": [
    {
     "name": "stdout",
     "output_type": "stream",
     "text": [
      "1,2,10\n",
      "2,3,20\n",
      "2,5,25\n",
      "5\n",
      "[10, 55, 45, 25, 25]\n"
     ]
    }
   ],
   "source": [
    "def corpFlightBookings(bookings, n):\n",
    "    res = [0] * (n + 1)\n",
    "    for i, j, k in bookings:\n",
    "        res[i-1] += k\n",
    "        res[j] -= k\n",
    "    for i in range(1, len(res)):\n",
    "        res[i] += res[i-1]\n",
    "    return res[:-1]\n",
    "\n",
    "\n",
    "bookings = []\n",
    "while True:\n",
    "    tmp_input = input()\n",
    "    if ',' in tmp_input:\n",
    "        bookings.append(eval('[' + tmp_input + ']'))\n",
    "    else:\n",
    "        n = int(tmp_input)\n",
    "        break\n",
    "print(corpFlightBookings(bookings, n))\n"
   ]
  },
  {
   "cell_type": "markdown",
   "metadata": {},
   "source": [
    "2.    航班预定座位数\n",
    "\n",
    "标题：航班预定座位数 | 时间限制：1秒 | 内存限制：65536K | 语言限制：不限\n",
    "\n",
    "有 n 个航班，它们分别从 1 到 n 进行编号。\n",
    "\n",
    "我们这儿有一份航班预订表，表中第 i 条预订记录 bookings[i] = [i, j, k] 意味着我们在从 i 到 j 的每个航班上预订了 k 个座位。\n",
    "\n",
    "请返回一个长度为 n 的数组 answer，按航班编号顺序返回每个航班上预订的座位数。\n",
    "\n",
    "输入描述:\n",
    "\n",
    "前几行为航班预定信息，最后一行为航班数量\n",
    "\n",
    "输出描述:\n",
    "\n",
    "长度为 n 的数组\n",
    "\n",
    "示例1\n",
    "\n",
    "输入\n",
    "\n",
    "1,2,10\n",
    "\n",
    "2,3,20\n",
    "\n",
    "2,5,25\n",
    "\n",
    "5\n",
    "\n",
    "输出\n",
    "\n",
    "10,55,45,25,25"
   ]
  }
 ],
 "metadata": {
  "kernelspec": {
   "display_name": "Python 3",
   "language": "python",
   "name": "python3"
  },
  "language_info": {
   "codemirror_mode": {
    "name": "ipython",
    "version": 3
   },
   "file_extension": ".py",
   "mimetype": "text/x-python",
   "name": "python",
   "nbconvert_exporter": "python",
   "pygments_lexer": "ipython3",
   "version": "3.6.5"
  },
  "latex_envs": {
   "LaTeX_envs_menu_present": true,
   "autoclose": false,
   "autocomplete": true,
   "bibliofile": "biblio.bib",
   "cite_by": "apalike",
   "current_citInitial": 1,
   "eqLabelWithNumbers": true,
   "eqNumInitial": 1,
   "hotkeys": {
    "equation": "Ctrl-E",
    "itemize": "Ctrl-I"
   },
   "labels_anchors": false,
   "latex_user_defs": false,
   "report_style_numbering": false,
   "user_envs_cfg": false
  },
  "toc": {
   "base_numbering": 1,
   "nav_menu": {},
   "number_sections": true,
   "sideBar": true,
   "skip_h1_title": false,
   "title_cell": "Table of Contents",
   "title_sidebar": "Contents",
   "toc_cell": false,
   "toc_position": {},
   "toc_section_display": true,
   "toc_window_display": false
  }
 },
 "nbformat": 4,
 "nbformat_minor": 2
}
