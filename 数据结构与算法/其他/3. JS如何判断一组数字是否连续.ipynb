{
 "cells": [
  {
   "cell_type": "markdown",
   "metadata": {},
   "source": [
    "3.    JS如何判断一组数字是否连续\n",
    "\n",
    "标题：JS如何判断一组数字是否连续 | 时间限制：1秒 | 内存限制：32768K | 语言限制：不限\n",
    "\n",
    "判断一组数字是否连续\n",
    "\n",
    "当出现连续数字的时候以‘-’输出，比如：对于数组[1, 2, 3, 4, 6, 8, 9, 10]，期望输出：[\"1-4\", 6, \"8-10\"]\n",
    "\n",
    "输入描述:\n",
    "\n",
    "数字数组：比如[1, 2, 3, 4, 6, 8, 9, 10]\n",
    "\n",
    "输出描述:\n",
    "\n",
    "对于连续的用'-‘拼接，其他的输出原数字[\"1-4\",\n",
    "\n",
    "6, \"8-10\"]\n",
    "\n",
    "示例1\n",
    "\n",
    "输入\n",
    "\n",
    "1,2,3,4,6,8,9,10\n",
    "\n",
    "输出\n",
    "\n",
    "1-4,6,8-10"
   ]
  },
  {
   "cell_type": "code",
   "execution_count": 6,
   "metadata": {},
   "outputs": [
    {
     "name": "stdout",
     "output_type": "stream",
     "text": [
      "1,2,3,4,6,8,9,10\n",
      "1-4,6,8-10\n"
     ]
    }
   ],
   "source": [
    "def get_continue_seq(str_list):\n",
    "    ls = eval('[' + str_list + ']')\n",
    "    len_ls = len(ls)\n",
    "    index_count = {}\n",
    "    for x in range(len_ls):\n",
    "        key = index_count.keys()\n",
    "        if key:\n",
    "            diff_x1 = ls[x]-ls[x-1]\n",
    "            if diff_x1==1:\n",
    "                index_count[max(key)].append(ls[x])\n",
    "            else:\n",
    "                index_count[x] = [ls[x]]\n",
    "        else:\n",
    "            index_count[x] = [ls[x]]\n",
    "    res = []\n",
    "    for j in index_count.values():\n",
    "        if len(j)>1:\n",
    "            res.append( str(min(j)) + '-' + str(max(j)) )\n",
    "        else:\n",
    "            res.append(str(j[0]))\n",
    "    return ','.join(res)\n",
    "\n",
    "str_list = input()\n",
    "print(get_continue_seq(str_list))"
   ]
  }
 ],
 "metadata": {
  "kernelspec": {
   "display_name": "Python 3",
   "language": "python",
   "name": "python3"
  },
  "language_info": {
   "codemirror_mode": {
    "name": "ipython",
    "version": 3
   },
   "file_extension": ".py",
   "mimetype": "text/x-python",
   "name": "python",
   "nbconvert_exporter": "python",
   "pygments_lexer": "ipython3",
   "version": "3.6.5"
  },
  "latex_envs": {
   "LaTeX_envs_menu_present": true,
   "autoclose": false,
   "autocomplete": true,
   "bibliofile": "biblio.bib",
   "cite_by": "apalike",
   "current_citInitial": 1,
   "eqLabelWithNumbers": true,
   "eqNumInitial": 1,
   "hotkeys": {
    "equation": "Ctrl-E",
    "itemize": "Ctrl-I"
   },
   "labels_anchors": false,
   "latex_user_defs": false,
   "report_style_numbering": false,
   "user_envs_cfg": false
  },
  "toc": {
   "base_numbering": 1,
   "nav_menu": {},
   "number_sections": true,
   "sideBar": true,
   "skip_h1_title": false,
   "title_cell": "Table of Contents",
   "title_sidebar": "Contents",
   "toc_cell": false,
   "toc_position": {},
   "toc_section_display": true,
   "toc_window_display": false
  }
 },
 "nbformat": 4,
 "nbformat_minor": 2
}
