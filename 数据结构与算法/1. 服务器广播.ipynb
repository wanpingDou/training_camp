{
 "cells": [
  {
   "cell_type": "markdown",
   "metadata": {},
   "source": [
    "1.    服务器广播\n",
    "\n",
    "标题：服务器广播 | 时间限制：1秒 | 内存限制：262144K | 语言限制：不限\n",
    "\n",
    "服务器连接方式包括直接相连，间接连接。A和B直接连接，B和C直接连接，则A和C间接连接。直接连接和间接连接都可以发送广播。\n",
    "\n",
    "给出一个N*N数组，代表N个服务器，matrix[i][j] == 1，则代表i和j直接连接；不等于1时，代表i和j不直接连接。matrix[i][i] == 1，即自己和自己直接连接。matrix[i][j] == matrix[j][i]。\n",
    "\n",
    "计算初始需要给几台服务器广播，才可以使每个服务器都收到广播。\n",
    "\n",
    "输入描述:\n",
    "\n",
    "n*n 矩阵\n",
    "\n",
    "输出描述:\n",
    "\n",
    "整数\n",
    "\n",
    "示例1\n",
    "\n",
    "输入\n",
    "\n",
    "1 1 0\n",
    "\n",
    "1 1 0\n",
    "\n",
    "0 0 1\n",
    "\n",
    "输出\n",
    "\n",
    "2\n",
    "\n",
    "示例2\n",
    "\n",
    "输入\n",
    "\n",
    "1 1 0\n",
    "\n",
    "1 1 1\n",
    "\n",
    "0 1 1\n",
    "\n",
    "输出\n",
    "\n",
    "1"
   ]
  },
  {
   "cell_type": "code",
   "execution_count": 5,
   "metadata": {},
   "outputs": [
    {
     "name": "stdout",
     "output_type": "stream",
     "text": [
      "1 1 0\n",
      "1 1 0\n",
      "0 0 1\n",
      "2\n"
     ]
    }
   ],
   "source": [
    "def server_broadcast(s):\n",
    "    s_len = len(s)\n",
    "    res = 0\n",
    "    for i in range(s_len-1):\n",
    "        for j in range(i+1, s_len):\n",
    "            if s[i][j] == '0':\n",
    "                res += 1\n",
    "    \n",
    "    return res\n",
    "\n",
    "s = [input().split(' ')]\n",
    "n = len(s[0])\n",
    "for i in range(n-1):\n",
    "    s.append(input().split(' '))\n",
    "    \n",
    "print(server_broadcast(s))"
   ]
  },
  {
   "cell_type": "code",
   "execution_count": 1,
   "metadata": {},
   "outputs": [
    {
     "data": {
      "text/plain": [
       "3"
      ]
     },
     "execution_count": 1,
     "metadata": {},
     "output_type": "execute_result"
    }
   ],
   "source": [
    "sum([1,1,0, 1,1,1, 0,1,1])"
   ]
  }
 ],
 "metadata": {
  "kernelspec": {
   "display_name": "Python 3",
   "language": "python",
   "name": "python3"
  },
  "language_info": {
   "codemirror_mode": {
    "name": "ipython",
    "version": 3
   },
   "file_extension": ".py",
   "mimetype": "text/x-python",
   "name": "python",
   "nbconvert_exporter": "python",
   "pygments_lexer": "ipython3",
   "version": "3.6.5"
  },
  "latex_envs": {
   "LaTeX_envs_menu_present": true,
   "autoclose": false,
   "autocomplete": true,
   "bibliofile": "biblio.bib",
   "cite_by": "apalike",
   "current_citInitial": 1,
   "eqLabelWithNumbers": true,
   "eqNumInitial": 1,
   "hotkeys": {
    "equation": "Ctrl-E",
    "itemize": "Ctrl-I"
   },
   "labels_anchors": false,
   "latex_user_defs": false,
   "report_style_numbering": false,
   "user_envs_cfg": false
  },
  "toc": {
   "base_numbering": 1,
   "nav_menu": {},
   "number_sections": true,
   "sideBar": true,
   "skip_h1_title": false,
   "title_cell": "Table of Contents",
   "title_sidebar": "Contents",
   "toc_cell": false,
   "toc_position": {},
   "toc_section_display": true,
   "toc_window_display": false
  }
 },
 "nbformat": 4,
 "nbformat_minor": 2
}
