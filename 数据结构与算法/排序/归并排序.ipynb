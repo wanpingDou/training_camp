{
 "cells": [
  {
   "cell_type": "code",
   "execution_count": 8,
   "metadata": {},
   "outputs": [],
   "source": [
    "\"\"\"\n",
    "    Author: Wenru\n",
    "\"\"\"\n",
    "\n",
    "from typing import List\n",
    "\n",
    "\n",
    "def merge_sort(a: List[int]):\n",
    "    _merge_sort_between(a, 0, len(a) - 1)\n",
    "\n",
    "\n",
    "def _merge_sort_between(a: List[int], low: int, high: int):\n",
    "    # The indices are inclusive for both low and high.\n",
    "    if low < high:\n",
    "        mid = low + (high - low) // 2\n",
    "        _merge_sort_between(a, low, mid)\n",
    "        _merge_sort_between(a, mid + 1, high)\n",
    "        _merge(a, low, mid, high)\n",
    "#         print(\"left: \",a[low:mid])\n",
    "#         print(\"right: \",a[mid+1:high])\n",
    "\n",
    "\n",
    "def _merge(a: List[int], low: int, mid: int, high: int):\n",
    "    # a[low:mid], a[mid+1, high] are sorted.\n",
    "    i, j = low, mid + 1\n",
    "    print([i, j, high])\n",
    "    tmp = []\n",
    "    while i <= mid and j <= high:\n",
    "        if a[i] <= a[j]:\n",
    "            tmp.append(a[i])\n",
    "            i += 1\n",
    "        else:\n",
    "            tmp.append(a[j])\n",
    "            j += 1\n",
    "    start = i if i <= mid else j\n",
    "    end = mid if i <= mid else high\n",
    "    tmp.extend(a[start:end + 1])\n",
    "    a[low:high + 1] = tmp\n"
   ]
  },
  {
   "cell_type": "code",
   "execution_count": 10,
   "metadata": {},
   "outputs": [
    {
     "name": "stdout",
     "output_type": "stream",
     "text": [
      "[0, 1, 1]\n",
      "[2, 3, 3]\n",
      "[0, 2, 3]\n",
      "[1, 2, 3, 4]\n"
     ]
    }
   ],
   "source": [
    "if __name__ == \"__main__\":\n",
    "#     a1 = [9, 1, 5, 4, 6, 3, 2, 7, 8]\n",
    "    a1 = [1,2,3,4]\n",
    "    merge_sort(a1)\n",
    "    print(a1)"
   ]
  },
  {
   "cell_type": "code",
   "execution_count": 22,
   "metadata": {},
   "outputs": [
    {
     "data": {
      "text/plain": [
       "0"
      ]
     },
     "execution_count": 22,
     "metadata": {},
     "output_type": "execute_result"
    }
   ],
   "source": [
    "1//2"
   ]
  },
  {
   "cell_type": "code",
   "execution_count": 25,
   "metadata": {},
   "outputs": [],
   "source": [
    "class Solution:\n",
    "    def reversePairs(nums: List[int]) -> int:\n",
    "        \"\"\"\n",
    "        :type nums: List[int]\n",
    "        :rtype: int\n",
    "        \"\"\"\n",
    "        count = 0\n",
    "        def MergeSort(nums):\n",
    "            if len(nums) <= 1:\n",
    "                return nums\n",
    "            mid = int(len(nums) / 2)\n",
    "            left = MergeSort(nums[:mid])\n",
    "            right = MergeSort(nums[mid:])\n",
    "            print(left)\n",
    "            print('1')\n",
    "            r, l = 0, 0\n",
    "            result = []\n",
    "            # 左右比较，左或右之一元素用完，结束\n",
    "            while l < len(left) and r < len(right):\n",
    "                # 若 左侧元素小，放入result，l指向下一位置\n",
    "                if left[l] <= right[r]:\n",
    "                    result.append(left[l])\n",
    "                    l += 1\n",
    "                # 否则 右侧元素小（出现逆序数），放入result，r指向下一位置\n",
    "                else:\n",
    "                    result.append(right[r])\n",
    "                    r += 1\n",
    "                    # 逆序数个数 == len(左侧[l:])\n",
    "                    # 但切片会浪费时间和空间，建议写法如下\n",
    "                    count += (len(left) - l)\n",
    "                    # print('count: ', self.count)\n",
    "            result += right[r:]\n",
    "            result += left[l:]\n",
    "            return result\n",
    "        MergeSort(nums)\n",
    "        return count"
   ]
  },
  {
   "cell_type": "code",
   "execution_count": 26,
   "metadata": {},
   "outputs": [
    {
     "name": "stdout",
     "output_type": "stream",
     "text": [
      "[2]\n",
      "1\n",
      "[1]\n",
      "1\n"
     ]
    },
    {
     "data": {
      "text/plain": [
       "0"
      ]
     },
     "execution_count": 26,
     "metadata": {},
     "output_type": "execute_result"
    }
   ],
   "source": [
    "Solution.reversePairs([1,2,3])"
   ]
  },
  {
   "cell_type": "code",
   "execution_count": 61,
   "metadata": {},
   "outputs": [
    {
     "name": "stdout",
     "output_type": "stream",
     "text": [
      "0\n",
      "None\n"
     ]
    }
   ],
   "source": [
    "res = 0\n",
    "def sum(n):\n",
    "    if n > 0:\n",
    "        print(n +sum(n - 1))\n",
    "    else:\n",
    "        print(0)\n",
    "#     return res\n",
    "print(sum(0))"
   ]
  },
  {
   "cell_type": "code",
   "execution_count": 63,
   "metadata": {},
   "outputs": [
    {
     "data": {
      "text/plain": [
       "1"
      ]
     },
     "execution_count": 63,
     "metadata": {},
     "output_type": "execute_result"
    }
   ],
   "source": [
    "[1,2,3,2].index(2)"
   ]
  },
  {
   "cell_type": "code",
   "execution_count": 66,
   "metadata": {},
   "outputs": [
    {
     "data": {
      "text/plain": [
       "4"
      ]
     },
     "execution_count": 66,
     "metadata": {},
     "output_type": "execute_result"
    }
   ],
   "source": [
    "a = 1\n",
    "c = 3 if a>1 else 4\n",
    "c"
   ]
  },
  {
   "cell_type": "code",
   "execution_count": 55,
   "metadata": {},
   "outputs": [],
   "source": [
    "        def MergeSort(nums):\n",
    "            if len(nums) <= 1:\n",
    "                return nums\n",
    "            mid = int(len(nums) / 2)\n",
    "            print(mid)\n",
    "            \n",
    "            left = MergeSort(nums[:mid])\n",
    "            print()\n",
    "#             print(mid)\n",
    "#             right = MergeSort(nums[mid:])\n",
    "            return 'cc'"
   ]
  },
  {
   "cell_type": "code",
   "execution_count": 56,
   "metadata": {},
   "outputs": [
    {
     "name": "stdout",
     "output_type": "stream",
     "text": [
      "2\n",
      "1\n"
     ]
    },
    {
     "data": {
      "text/plain": [
       "'cc'"
      ]
     },
     "execution_count": 56,
     "metadata": {},
     "output_type": "execute_result"
    }
   ],
   "source": [
    "MergeSort([1,2,3,4])"
   ]
  },
  {
   "cell_type": "code",
   "execution_count": null,
   "metadata": {},
   "outputs": [],
   "source": []
  },
  {
   "cell_type": "code",
   "execution_count": null,
   "metadata": {},
   "outputs": [],
   "source": []
  },
  {
   "cell_type": "code",
   "execution_count": null,
   "metadata": {},
   "outputs": [],
   "source": []
  }
 ],
 "metadata": {
  "kernelspec": {
   "display_name": "Python 3",
   "language": "python",
   "name": "python3"
  },
  "language_info": {
   "codemirror_mode": {
    "name": "ipython",
    "version": 3
   },
   "file_extension": ".py",
   "mimetype": "text/x-python",
   "name": "python",
   "nbconvert_exporter": "python",
   "pygments_lexer": "ipython3",
   "version": "3.6.5"
  },
  "latex_envs": {
   "LaTeX_envs_menu_present": true,
   "autoclose": false,
   "autocomplete": true,
   "bibliofile": "biblio.bib",
   "cite_by": "apalike",
   "current_citInitial": 1,
   "eqLabelWithNumbers": true,
   "eqNumInitial": 1,
   "hotkeys": {
    "equation": "Ctrl-E",
    "itemize": "Ctrl-I"
   },
   "labels_anchors": false,
   "latex_user_defs": false,
   "report_style_numbering": false,
   "user_envs_cfg": false
  },
  "toc": {
   "base_numbering": 1,
   "nav_menu": {},
   "number_sections": true,
   "sideBar": true,
   "skip_h1_title": false,
   "title_cell": "Table of Contents",
   "title_sidebar": "Contents",
   "toc_cell": false,
   "toc_position": {},
   "toc_section_display": true,
   "toc_window_display": false
  }
 },
 "nbformat": 4,
 "nbformat_minor": 2
}
