{
 "cells": [
  {
   "cell_type": "code",
   "execution_count": 16,
   "metadata": {},
   "outputs": [],
   "source": [
    "\"\"\"\n",
    "    Author: Wenru\n",
    "\"\"\"\n",
    "\n",
    "from typing import List\n",
    "\n",
    "\n",
    "def merge_sort(a: List[int]):\n",
    "    _merge_sort_between(a, 0, len(a) - 1)\n",
    "\n",
    "\n",
    "def _merge_sort_between(a: List[int], low: int, high: int):\n",
    "    # The indices are inclusive for both low and high.\n",
    "    if low < high:\n",
    "        mid = low + (high - low) // 2\n",
    "        _merge_sort_between(a, low, mid)\n",
    "        _merge_sort_between(a, mid + 1, high)\n",
    "        _merge(a, low, mid, high)\n",
    "        print(\"res: \",[low,mid,high])\n",
    "#         print(\"right: \",[mid+1,high])\n",
    "\n",
    "\n",
    "def _merge(a: List[int], low: int, mid: int, high: int):\n",
    "    # a[low:mid], a[mid+1, high] are sorted.\n",
    "    i, j = low, mid + 1\n",
    "    tmp = []\n",
    "    while i <= mid and j <= high:\n",
    "        if a[i] <= a[j]:\n",
    "            tmp.append(a[i])\n",
    "            i += 1\n",
    "        else:\n",
    "            tmp.append(a[j])\n",
    "            j += 1\n",
    "    start = i if i <= mid else j\n",
    "    end = mid if i <= mid else high\n",
    "    tmp.extend(a[start:end + 1])\n",
    "    a[low:high + 1] = tmp\n"
   ]
  },
  {
   "cell_type": "code",
   "execution_count": 20,
   "metadata": {},
   "outputs": [
    {
     "name": "stdout",
     "output_type": "stream",
     "text": [
      "res:  [0, 0, 1]\n",
      "res:  [0, 1, 2]\n",
      "res:  [3, 3, 4]\n",
      "res:  [0, 2, 4]\n",
      "[1, 2, 3, 4, 5]\n"
     ]
    }
   ],
   "source": [
    "if __name__ == \"__main__\":\n",
    "#     a1 = [9, 1, 5, 4, 6, 3, 2, 7, 8]\n",
    "    a1 = [1,2,3,4,5]\n",
    "    merge_sort(a1)\n",
    "    print(a1)"
   ]
  },
  {
   "cell_type": "code",
   "execution_count": 22,
   "metadata": {},
   "outputs": [
    {
     "data": {
      "text/plain": [
       "0"
      ]
     },
     "execution_count": 22,
     "metadata": {},
     "output_type": "execute_result"
    }
   ],
   "source": [
    "1//2"
   ]
  },
  {
   "cell_type": "code",
   "execution_count": null,
   "metadata": {},
   "outputs": [],
   "source": [
    "def test_merge_sort():\n",
    "    a1 = [3, 5, 6, 7, 8]\n",
    "    merge_sort(a1)\n",
    "    assert a1 == [3, 5, 6, 7, 8]\n",
    "    a2 = [2, 2, 2, 2]\n",
    "    merge_sort(a2)\n",
    "    assert a2 == [2, 2, 2, 2]\n",
    "    a3 = [4, 3, 2, 1]\n",
    "    merge_sort(a3)\n",
    "    assert a3 == [1, 2, 3, 4]\n",
    "    a4 = [5, -1, 9, 3, 7, 8, 3, -2, 9]\n",
    "    merge_sort(a4)\n",
    "    assert a4 == [-2, -1, 3, 3, 5, 7, 8, 9, 9]\n",
    "\n",
    "\n",
    "if __name__ == \"__main__\":\n",
    "    a1 = [3, 5, 6, 7, 8]\n",
    "    a2 = [2, 2, 2, 2]\n",
    "    a3 = [4, 3, 2, 1]\n",
    "    a4 = [5, -1, 9, 3, 7, 8, 3, -2, 9]\n",
    "    merge_sort(a1)\n",
    "    print(a1)\n",
    "    merge_sort(a2)\n",
    "    print(a2)\n",
    "    merge_sort(a3)\n",
    "    print(a3)\n",
    "    merge_sort(a4)\n",
    "    print(a4)"
   ]
  },
  {
   "cell_type": "code",
   "execution_count": null,
   "metadata": {},
   "outputs": [],
   "source": []
  }
 ],
 "metadata": {
  "kernelspec": {
   "display_name": "Python 3",
   "language": "python",
   "name": "python3"
  },
  "language_info": {
   "codemirror_mode": {
    "name": "ipython",
    "version": 3
   },
   "file_extension": ".py",
   "mimetype": "text/x-python",
   "name": "python",
   "nbconvert_exporter": "python",
   "pygments_lexer": "ipython3",
   "version": "3.6.5"
  },
  "latex_envs": {
   "LaTeX_envs_menu_present": true,
   "autoclose": false,
   "autocomplete": true,
   "bibliofile": "biblio.bib",
   "cite_by": "apalike",
   "current_citInitial": 1,
   "eqLabelWithNumbers": true,
   "eqNumInitial": 1,
   "hotkeys": {
    "equation": "Ctrl-E",
    "itemize": "Ctrl-I"
   },
   "labels_anchors": false,
   "latex_user_defs": false,
   "report_style_numbering": false,
   "user_envs_cfg": false
  },
  "toc": {
   "base_numbering": 1,
   "nav_menu": {},
   "number_sections": true,
   "sideBar": true,
   "skip_h1_title": false,
   "title_cell": "Table of Contents",
   "title_sidebar": "Contents",
   "toc_cell": false,
   "toc_position": {},
   "toc_section_display": true,
   "toc_window_display": false
  }
 },
 "nbformat": 4,
 "nbformat_minor": 2
}
